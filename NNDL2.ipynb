{
  "nbformat": 4,
  "nbformat_minor": 0,
  "metadata": {
    "colab": {
      "provenance": [],
      "mount_file_id": "1ZaZbyt0NzLYqsjXjJygcYjq7Pug39Sem",
      "authorship_tag": "ABX9TyOVJRge0Shwwyzp1VpQQtfJ",
      "include_colab_link": true
    },
    "kernelspec": {
      "name": "python3",
      "display_name": "Python 3"
    },
    "language_info": {
      "name": "python"
    }
  },
  "cells": [
    {
      "cell_type": "markdown",
      "metadata": {
        "id": "view-in-github",
        "colab_type": "text"
      },
      "source": [
        "<a href=\"https://colab.research.google.com/github/kyosshk/NN_DL_1/blob/main/NNDL2.ipynb\" target=\"_parent\"><img src=\"https://colab.research.google.com/assets/colab-badge.svg\" alt=\"Open In Colab\"/></a>"
      ]
    },
    {
      "cell_type": "code",
      "execution_count": 1,
      "metadata": {
        "id": "9Y9NC6hpMoCS"
      },
      "outputs": [],
      "source": [
        "def Full_name(first_name=\"first name\",last_name='last name'):# Here i have created Full name method by passing arguments first name and last name\n",
        "    return first_name+' '+last_name # Here i have conacatinted both first name and last name which i have returned it as a string to the function\n",
        ""
      ]
    },
    {
      "cell_type": "code",
      "source": [
        "first_name=input(\"Enter your first name:/n\")# Used input function to accept a string from the user and stored in a variable\n",
        "last_name=input(\"Enter your last name:/n\")\n",
        "full_name=Full_name(first_name,last_name)#passed variables to the function\n",
        "print(full_name)"
      ],
      "metadata": {
        "colab": {
          "base_uri": "https://localhost:8080/"
        },
        "id": "vQU71yVQMvyA",
        "outputId": "d9120def-5dba-4400-d323-d7f619e56470"
      },
      "execution_count": 2,
      "outputs": [
        {
          "output_type": "stream",
          "name": "stdout",
          "text": [
            "Enter your first name:/nkyossh\n",
            "Enter your last name:/nkanna\n",
            "kyossh kanna\n"
          ]
        }
      ]
    },
    {
      "cell_type": "code",
      "source": [
        "def string_alternative(string):\n",
        "    o=''\n",
        "    for i in range(0,len(string)):#Here i am iterating the string from 0 to the lenght of the string\n",
        "        if(i%2==0):#Here i am taking each character and doing modulus with and equating to 0 so that we can get the all the alternate characters in the string\n",
        "            o=o+string[i]# Here i am adding empty string to the list of characters according the index so that we can return the string and then print it.\n",
        "    return o\n",
        "string_alternative('Good evening')#called the function by passing \"Good Evening\" as a string."
      ],
      "metadata": {
        "colab": {
          "base_uri": "https://localhost:8080/",
          "height": 35
        },
        "id": "fYGGRjr3M8Y3",
        "outputId": "b3cc765a-c74c-4a95-f29b-de8826286cba"
      },
      "execution_count": 4,
      "outputs": [
        {
          "output_type": "execute_result",
          "data": {
            "text/plain": [
              "'Go vnn'"
            ],
            "application/vnd.google.colaboratory.intrinsic+json": {
              "type": "string"
            }
          },
          "metadata": {},
          "execution_count": 4
        }
      ]
    },
    {
      "cell_type": "code",
      "source": [
        "from collections import Counter\n",
        "with open('/content/drive/My Drive/input_file.txt', 'r') as input_file:\n",
        "    lines = input_file.readlines()\n",
        "\n",
        "output_lines = []\n",
        "list_of_words = []\n",
        "\n",
        "for line in lines:\n",
        "    line = line.strip()\n",
        "\n",
        "    list_of_words.extend(line.split(\" \"))\n",
        "\n",
        "\n",
        "element_count = Counter(list_of_words)\n",
        "\n",
        "for element, count in element_count.items():\n",
        "  output_lines.append(f\"{element} - Count: {count}\")\n",
        "\n",
        "with open('/content/drive/My Drive/output.txt', 'w') as output_file:\n",
        "    output_file.write(\"Python Course\" + '\\n')\n",
        "    output_file.write(\"Deep Learning Course\" + '\\n')\n",
        "    output_file.write(\"Word_Count:\" + '\\n')\n",
        "    for line in output_lines:\n",
        "        output_file.write(line + '\\n')\n",
        "\n",
        "print(\"Output written to output.txt\")"
      ],
      "metadata": {
        "colab": {
          "base_uri": "https://localhost:8080/"
        },
        "id": "VvkBoUBgNECz",
        "outputId": "a58ee40d-c3e5-4865-fd0f-60647eaacac5"
      },
      "execution_count": 16,
      "outputs": [
        {
          "output_type": "stream",
          "name": "stdout",
          "text": [
            "Output written to output.txt\n"
          ]
        }
      ]
    },
    {
      "cell_type": "code",
      "source": [
        "inchesList = list(map(int, input().split(\",\")))\n",
        "cmList = []\n",
        "cmList_comprehensions = []\n",
        "\n",
        "def inchToCm(inch):\n",
        "  return (inch * 2.54)\n",
        "\n",
        "# Nested Interactive loop\n",
        "for i in inchesList :\n",
        "    cmList.append(inchToCm(i))\n",
        "\n",
        "print (\"Nested Interactive loop : \\n\", cmList)\n",
        "\n",
        "# List Comprehension\n",
        "cmList_comprehensions = [inchToCm(inch) for inch in inchesList]\n",
        "\n",
        "\n",
        "print (\"List Comprehension : \\n\", cmList_comprehensions)"
      ],
      "metadata": {
        "colab": {
          "base_uri": "https://localhost:8080/"
        },
        "id": "mbJnbWXVQRgY",
        "outputId": "0eb5e9a8-a02d-4366-c7e6-90a729ba6c45"
      },
      "execution_count": 15,
      "outputs": [
        {
          "output_type": "stream",
          "name": "stdout",
          "text": [
            "150,155, 145, 148\n",
            "Nested Interactive loop : \n",
            " [381.0, 393.7, 368.3, 375.92]\n",
            "List Comprehension : \n",
            " [381.0, 393.7, 368.3, 375.92]\n"
          ]
        }
      ]
    }
  ]
}